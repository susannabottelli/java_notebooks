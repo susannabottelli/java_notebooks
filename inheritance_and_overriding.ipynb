{
 "cells": [
  {
   "cell_type": "markdown",
   "metadata": {},
   "source": [
    "## Inheritance and Overriding in Java"
   ]
  },
  {
   "cell_type": "markdown",
   "metadata": {},
   "source": [
    "## Inheritance\n",
    "### Definition and Function\n",
    "Inheritance is the practice of inheritic attributes and methods from a class to another.\n",
    "* **SUPERCLASS** (parent class): where the method is inherited from\n",
    "* **SUBCLASS** (child class): inherits the method from the Superclass -> they are created using the _**extends**_ keyword."
   ]
  },
  {
   "cell_type": "code",
   "execution_count": null,
   "metadata": {
    "vscode": {
     "languageId": "java"
    }
   },
   "outputs": [],
   "source": [
    "class Animal {\n",
    "    protected String type = \"Swimming\";        // Animal attribute\n",
    "    public void movement() {                // Animal method\n",
    "      System.out.println(\"Swim\");\n",
    "    }\n",
    "  }\n",
    "  \n",
    "  class Fish extends Animal {\n",
    "    private String name = \"Trout\";    // Fish attribute\n",
    "    public static void main(String[] args) {\n",
    "  \n",
    "      // Create a myCar object\n",
    "      Fish aFish = new Fish();\n",
    "  \n",
    "      // Call the honk() method (from the Vehicle class) on the myCar object\n",
    "      aFish.movement();\n",
    "  \n",
    "      // Display the value of the brand attribute (from the Vehicle class) and the value of the modelName from the Car class\n",
    "      System.out.println(aFish.type + \" \" + aFish.name);\n",
    "    }\n",
    "  }"
   ]
  },
  {
   "cell_type": "markdown",
   "metadata": {},
   "source": [
    "## Overriding\n",
    "### Definition and Function\n",
    "Feature that allows a Subclass (child class) to provide a specific implementation of a method that already exists in its a Superclass (parent class).\n",
    "* **OVERRIDDEN METHOD** = method in a subclass that has the same name, same parameters, amd same return type as a method in its Superclass."
   ]
  },
  {
   "cell_type": "markdown",
   "metadata": {},
   "source": [
    "The version of the method that is executed is determined by the object used to invoke it (parent or child class version)."
   ]
  },
  {
   "cell_type": "markdown",
   "metadata": {},
   "source": [
    "### Example"
   ]
  },
  {
   "cell_type": "code",
   "execution_count": null,
   "metadata": {
    "vscode": {
     "languageId": "java"
    }
   },
   "outputs": [],
   "source": [
    "// Base Class\n",
    "class Parent {\n",
    "    void show()\n",
    "    {\n",
    "        System.out.println(\"I'm the parent\");\n",
    "    }\n",
    "}\n",
    "  \n",
    "// Inherited class\n",
    "class Child extends Parent {\n",
    "    // This method overrides show() of Parent\n",
    "    @Override\n",
    "    void show()\n",
    "    {\n",
    "        System.out.println(\"I'm the child\");\n",
    "    }\n",
    "}\n",
    "  \n",
    "// Driver class\n",
    "class Main {\n",
    "    public static void main(String[] args)\n",
    "    {\n",
    "        // If a Parent type reference refers\n",
    "        // to a Parent object, then Parent's\n",
    "        // show is called\n",
    "        Parent obj1 = new Parent();\n",
    "        obj1.show();\n",
    "  \n",
    "        // If a Parent type reference refers\n",
    "        // to a Child object Child's show()\n",
    "        // is called. This is called RUN TIME\n",
    "        // POLYMORPHISM.\n",
    "        Parent obj2 = new Child();\n",
    "        obj2.show();\n",
    "    }\n",
    "}"
   ]
  },
  {
   "cell_type": "markdown",
   "metadata": {},
   "source": [
    "Output:<br/>\n",
    "I'm the parent<br/>\n",
    "I'm the child<br/>"
   ]
  },
  {
   "cell_type": "markdown",
   "metadata": {},
   "source": [
    "\n",
    "### What cannot be overridden?\n",
    "* _**Final methods:**_ a method is declared as final when we don't want it to be overridden"
   ]
  },
  {
   "cell_type": "code",
   "execution_count": null,
   "metadata": {
    "vscode": {
     "languageId": "java"
    }
   },
   "outputs": [],
   "source": [
    "class Parent {\n",
    "    // Can't be overridden because final\n",
    "    final void show() {}\n",
    "}\n",
    "  \n",
    "class Child extends Parent {\n",
    "    // This would produce error\n",
    "    void show() {}\n",
    "}"
   ]
  },
  {
   "cell_type": "markdown",
   "metadata": {},
   "source": [
    "* _**Static methods:**_ defining a static method with the same properties as a static method in the parent class is _METHOD HIDING_ (not method overriding!)"
   ]
  },
  {
   "cell_type": "code",
   "execution_count": null,
   "metadata": {
    "vscode": {
     "languageId": "java"
    }
   },
   "outputs": [],
   "source": [
    "class Parent {\n",
    "    // Static method in base class\n",
    "    // which will be hidden in subclass\n",
    "    static void m1()\n",
    "    {\n",
    "        System.out.println(\"From parent \"\n",
    "                           + \"static m1()\");\n",
    "    }\n",
    "  \n",
    "    // Non-static method which will\n",
    "    // be overridden in derived class\n",
    "    void m2()\n",
    "    {\n",
    "        System.out.println(\"From parent \"\n",
    "                           + \"non-static(instance) m2()\");\n",
    "    }\n",
    "}\n",
    "  \n",
    "class Child extends Parent {\n",
    "    // This method hides m1() in Parent\n",
    "    static void m1()\n",
    "    {\n",
    "        System.out.println(\"From child static m1()\");\n",
    "    }\n",
    "  \n",
    "    // This method overrides m2() in Parent\n",
    "    @Override\n",
    "    public void m2()\n",
    "    {\n",
    "        System.out.println(\"From child \"\n",
    "                           + \"non-static(instance) m2()\");\n",
    "    }\n",
    "}\n",
    "  \n",
    "// Driver class\n",
    "class Main {\n",
    "    public static void main(String[] args)\n",
    "    {\n",
    "        Parent obj1 = new Child();\n",
    "  \n",
    "        // As per overriding rules this\n",
    "        // should call to class Child static\n",
    "        // overridden method. Since static\n",
    "        // method can not be overridden, it\n",
    "        // calls Parent's m1()\n",
    "        obj1.m1();\n",
    "  \n",
    "        // Here overriding works\n",
    "        // and Child's m2() is called\n",
    "        obj1.m2();\n",
    "    }\n",
    "}"
   ]
  },
  {
   "cell_type": "markdown",
   "metadata": {},
   "source": [
    "* _**Private methods:**_ they are bonded during compile time."
   ]
  },
  {
   "cell_type": "code",
   "execution_count": null,
   "metadata": {
    "vscode": {
     "languageId": "java"
    }
   },
   "outputs": [],
   "source": [
    "class Parent {\n",
    "    // Can't be overridden because final\n",
    "    private void show() {\n",
    "        System.out.println(\"Parent method\")\n",
    "    }\n",
    "}\n",
    "  \n",
    "class Child extends Parent {\n",
    "    // This would produce error\n",
    "    void show() {\n",
    "        System.out.println(\"Child method overridden\")\n",
    "        // It cannot actually be overridden!\n",
    "    }\n",
    "}"
   ]
  }
 ],
 "metadata": {
  "language_info": {
   "name": "python"
  },
  "orig_nbformat": 4
 },
 "nbformat": 4,
 "nbformat_minor": 2
}
