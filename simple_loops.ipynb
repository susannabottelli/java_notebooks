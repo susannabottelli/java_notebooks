{
 "cells": [
  {
   "cell_type": "markdown",
   "metadata": {},
   "source": [
    "## Simple loops in Java"
   ]
  },
  {
   "cell_type": "markdown",
   "metadata": {},
   "source": [
    "Types of loops:\n",
    "* **entry control** - check the condition before executing the statements (while, for)\n",
    "* **exit control** - check the condition after executing the statements (do-while)"
   ]
  },
  {
   "cell_type": "code",
   "execution_count": null,
   "metadata": {
    "vscode": {
     "languageId": "java"
    }
   },
   "outputs": [],
   "source": [
    "// entry control loop\n",
    "while(not edge){\n",
    "    run();\n",
    "}\n",
    "\n",
    "// exit control loop\n",
    "do{\n",
    "    run()\n",
    "}while(not edge);"
   ]
  },
  {
   "cell_type": "markdown",
   "metadata": {},
   "source": [
    "### Entry Control Loops"
   ]
  },
  {
   "cell_type": "markdown",
   "metadata": {},
   "source": [
    "### 1. While Loop\n",
    "\n",
    "Loops through a block of code based on a give boolean condition.\n",
    "* **Initialization condition:** check the condition\n",
    "* **Statement execution:** if the condition is verified, the loop body statements are executed (they can contain a value update to process in each iteration)\n",
    "* **Loop termination:** once the condition is not verified anymore, the loop terminates"
   ]
  },
  {
   "cell_type": "code",
   "execution_count": null,
   "metadata": {
    "vscode": {
     "languageId": "java"
    }
   },
   "outputs": [],
   "source": [
    "while(boolean condition){\n",
    "    // loop statements \n",
    "}"
   ]
  },
  {
   "cell_type": "code",
   "execution_count": null,
   "metadata": {
    "vscode": {
     "languageId": "java"
    }
   },
   "outputs": [],
   "source": [
    "// while loop example\n",
    "class WhileLoop {\n",
    "    public static void main(String args[]){\n",
    "\n",
    "        int i = 0; // counter initialization\n",
    "        \n",
    "        while(i<4){ // set condition of termination\n",
    "            System.out.println(i);\n",
    "            i++;\n",
    "        }\n",
    "\n",
    "    }\n",
    "}\n",
    "// output: 0 1 2 3\n"
   ]
  },
  {
   "cell_type": "markdown",
   "metadata": {},
   "source": [
    "### 2. For Loop\n",
    "\n",
    "Is used in place of while loops when we know exacly how many times we want the loop to go through a block of code.\n",
    "\n",
    "_[Initialization, testingcondition and increment/decrement are in one line -> easier to debug.]_\n",
    "\n",
    "#### Option 1:\n",
    "* **Initialization condition:** it can be a previously declared variable, or a new one local to the loop only\n",
    "* **Testing condition:** returns a boolean value to test the exit condition from the loop.\n",
    "* **Statement execution:** once the condition is verified, the loop is executed.\n",
    "* **Increment/Decrement:** used to update the value of the variable at each iteration\n",
    "* **Loop termination:** once the condition is not verified anymore, the loop terminates\n"
   ]
  },
  {
   "cell_type": "code",
   "execution_count": null,
   "metadata": {
    "vscode": {
     "languageId": "java"
    }
   },
   "outputs": [],
   "source": [
    "// For-loop OPTION 1\n",
    "\n",
    "for(initialization; condition; increment/decrement){\n",
    "    // loop statements\n",
    "}"
   ]
  },
  {
   "cell_type": "code",
   "execution_count": null,
   "metadata": {
    "vscode": {
     "languageId": "java"
    }
   },
   "outputs": [],
   "source": [
    "class ForLoop {\n",
    "    public static void main(String args[]){\n",
    "\n",
    "        for(int=0; i<4; i++){ // i increments by 1 from 0 to 3\n",
    "            System.out.println(i);\n",
    "        } // output: 0 1 2 3\n",
    "\n",
    "        for(int i=0; sum=0; i<4; i++){\n",
    "            sum += i; // from 0 to 3 i get summed each time with the previous one\n",
    "            System.out.println(sum);\n",
    "        } // output: (0+0=) 0 (0+1=) 1 (1+2=) 3 (3+3=) 6 -> 0 1 3 6\n",
    "    }\n",
    "}"
   ]
  },
  {
   "cell_type": "markdown",
   "metadata": {},
   "source": [
    "#### Option 2 (enhanced):\n",
    "Used mostly to iterate through the elements of a collection or array."
   ]
  },
  {
   "cell_type": "code",
   "execution_count": null,
   "metadata": {
    "vscode": {
     "languageId": "java"
    }
   },
   "outputs": [],
   "source": [
    "// For-loop OPTION 2\n",
    "for(element : collection/array){\n",
    "    // loop statements\n",
    "}"
   ]
  },
  {
   "cell_type": "code",
   "execution_count": null,
   "metadata": {
    "vscode": {
     "languageId": "java"
    }
   },
   "outputs": [],
   "source": [
    "class EnhancedForLoop {\n",
    "    public static void main(String args[]){\n",
    "\n",
    "        int array[] = {0, 1, 2, 3};\n",
    "\n",
    "        for(int i: array){\n",
    "            System.out.println(i);\n",
    "        }\n",
    "\n",
    "        // output: 0 1 2 3\n",
    "    }\n",
    "}"
   ]
  },
  {
   "cell_type": "markdown",
   "metadata": {},
   "source": [
    "### Exit Control Loops"
   ]
  },
  {
   "cell_type": "markdown",
   "metadata": {},
   "source": [
    "### 1. Do-While Loop\n",
    "\n",
    "* **Statement execution**\n",
    "* **Increment/Decrement:** the variable is updated\n",
    "* **Testing condition**\n",
    "\n",
    "Because the condition is checked afterwards, the loop is always executed at least once."
   ]
  },
  {
   "cell_type": "code",
   "execution_count": null,
   "metadata": {
    "vscode": {
     "languageId": "java"
    }
   },
   "outputs": [],
   "source": [
    "do {\n",
    "    // loop statements\n",
    "} while(condition);"
   ]
  },
  {
   "cell_type": "code",
   "execution_count": null,
   "metadata": {
    "vscode": {
     "languageId": "java"
    }
   },
   "outputs": [],
   "source": [
    "class DoWhileLoop {\n",
    "    public static void main(String args[]){\n",
    "\n",
    "        int i = 2;\n",
    "\n",
    "        do {\n",
    "            System.out.println(\"Value of i: \" + i);\n",
    "            i++;\n",
    "        } while {\n",
    "            (i < 1)\n",
    "        }\n",
    "\n",
    "        // output: Value of i: 2 (printed even if the condition is false)\n",
    "    }\n",
    "}"
   ]
  }
 ],
 "metadata": {
  "language_info": {
   "name": "python"
  },
  "orig_nbformat": 4
 },
 "nbformat": 4,
 "nbformat_minor": 2
}
