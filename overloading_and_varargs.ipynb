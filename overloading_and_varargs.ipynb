{
 "cells": [
  {
   "cell_type": "markdown",
   "metadata": {},
   "source": [
    "## Overloading and Varargs in Java"
   ]
  },
  {
   "cell_type": "markdown",
   "metadata": {},
   "source": [
    "### OVERLOADING (static polymorphism): Definition and Function\n",
    "[Basic concept: a Java method is defined by both its identifier and parameter(s) = signature. In the same class, more methods with the same signature cannot cohexist.]\n",
    "\n",
    "**Overloading** = creating different methods with the same name. Its function is to logically correlate two methods that have the same function but fulfill it in a different way (eg. with different parameters)"
   ]
  },
  {
   "cell_type": "code",
   "execution_count": null,
   "metadata": {
    "vscode": {
     "languageId": "java"
    }
   },
   "outputs": [],
   "source": [
    "public class Mathematics {\n",
    "    public int sum(int a, int b) { //1\n",
    "        return a + b;\n",
    "    }\n",
    "    public float sum(int a, float b) { //2\n",
    "        return a + b;\n",
    "    }\n",
    "    public float sum(float a, int b) { //3\n",
    "        return a + b;\n",
    "    }\n",
    "    public int sum(int a, int b, int c) { //4\n",
    "        return a + b + c;\n",
    "    }\n",
    "    public double sum(int a, double b, int c) { //5\n",
    "        return a + b + c;\n",
    "    }\n",
    "}"
   ]
  },
  {
   "cell_type": "markdown",
   "metadata": {},
   "source": [
    "#### Overloading criteria:\n",
    "- **Type conversion:** sum(int a, int b) != sum(int a, float b)</br>\n",
    "\n",
    "- **Parameter number conversion:** sum(int a, int b) != sum(int a, int b, int c)</br>\n",
    "\n",
    "- **Position conversion:** sum(int a, float b) != sum(float a, int b)"
   ]
  },
  {
   "cell_type": "markdown",
   "metadata": {},
   "source": [
    "### VARARGS: Definition and Function\n",
    "Varargs are variable arguments of a method. They allow the method to have an indefinite number of arguments (or no arguments), so to avoid _**overloading**_."
   ]
  },
  {
   "cell_type": "code",
   "execution_count": null,
   "metadata": {
    "vscode": {
     "languageId": "java"
    }
   },
   "outputs": [],
   "source": [
    "public class Mathematics {\n",
    "    public double sum(double... a) {\n",
    "        double sumSolution = 0.0;\n",
    "\n",
    "        for (double i : a) {\n",
    "            sumSolution += i;\n",
    "        }\n",
    "        return sumSolution;\n",
    "    }\n",
    "    \n",
    "}"
   ]
  },
  {
   "cell_type": "markdown",
   "metadata": {},
   "source": [
    "Varargs are considered arrays inside the method where they are declared. This means we can obtain their size using _**.length**_ and they can be used in loops. -> They can be simply invoked and save the time (and space in the memory) of creating a new array."
   ]
  }
 ],
 "metadata": {
  "language_info": {
   "name": "python"
  },
  "orig_nbformat": 4
 },
 "nbformat": 4,
 "nbformat_minor": 2
}
