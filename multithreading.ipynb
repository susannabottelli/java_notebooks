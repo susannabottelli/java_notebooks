{
 "cells": [
  {
   "cell_type": "markdown",
   "metadata": {},
   "source": [
    "## Multithreading in Java"
   ]
  },
  {
   "cell_type": "markdown",
   "metadata": {},
   "source": [
    "### Definition and Function\n",
    "**THREAD:** execution unit (sequence of instructions) which is part of a process and has a separate path of excution. Each thread has the role of executing the code following the structure flow of the application. -> every process contains at least one thread, but can also contain more than one.</br>\n",
    "</br>\n",
    "If there are more threads, they share the same memory but act independently.\n"
   ]
  },
  {
   "cell_type": "markdown",
   "metadata": {},
   "source": [
    "**MULTITHREADING:** mechanism supported by Java that allows more threads to participate in the same process, fulfilling different tasks at the same time. All threads can communicate with each other to optimize the use of the system resources. -> The number of active threads at the same time depends on the power of the processor of the machine the application is running on. [Multithreading is a OS feature, Java JVM simply allows to handle the threads directly.]"
   ]
  },
  {
   "cell_type": "markdown",
   "metadata": {},
   "source": [
    "<u>MULTITHREADING != MULTITASKING</u></br>\n",
    "**Tasks** = heavy processes which take different places in the memory and separate addresses, plus their intercommunication is limited."
   ]
  },
  {
   "cell_type": "markdown",
   "metadata": {},
   "source": [
    "### How multithreading works in Java\n",
    "\n",
    "1. when launching the **_main()_** method, the OS starts a _java_ process [java.exe file is copied in the RAM and executed by the processor]\n",
    "2. the _java_ process generates the **_main_** thread\n",
    "3. the _java_ process terminates\n",
    "4. (optional: the **_main_** thread can start many other threads, which can start other threads in turn."
   ]
  },
  {
   "cell_type": "markdown",
   "metadata": {},
   "source": [
    "### How Java facilitates multithread management\n",
    "- _java.lang.Runnable_ interface & _java.lang.Thread_ class: allow to launch new threads\n",
    "- _java.lang.Object_ class: allows all Java object to participate in multithreading\n",
    "- JVM -> keywork _**synchronized**_"
   ]
  },
  {
   "cell_type": "markdown",
   "metadata": {},
   "source": [
    "### *Thread Synchronization\n",
    "= ability of a thread to finish its work before passing the object to the next thread.\n",
    "- **SYNCHRONIZED METHODS:** cannot be invoked by a thread until the previous one has finished its work\n",
    "- **SYNCHRONIZED INSTRUCTION BLOCKS:** (only allow objects, not primitive types) the object is \"blocked\" until the thread has finished its work"
   ]
  },
  {
   "cell_type": "markdown",
   "metadata": {},
   "source": [
    "\n",
    "## Thread Communication\n",
    "Using the _Object_ class methods:- _**wait()**_ causes current thread to release the lock and wait until either another thread invokes the notify() method or the notifyAll() method for this object, or a specified amount of time has elapsed- _**notify**_ method wakes up a single thread that is waiting on this object's monitor- _**notifyAll()**_ wakes up all threads that are waiting on this object's monitor"
   ]
  },
  {
   "cell_type": "code",
   "execution_count": null,
   "metadata": {
    "vscode": {
     "languageId": "java"
    }
   },
   "outputs": [],
   "source": [
    "// CREATE A THREAD\n",
    "\n",
    "class Scriba implements Runnable {\n",
    "    // fields\n",
    "    String message;\n",
    "    Papiro target // Papiro is a class previously created\n",
    "    Thread t;\n",
    "\n",
    "    // constructor\n",
    "    public Scriba(Papiro tar, String s){\n",
    "        target = tar;\n",
    "        messaggio = s;\n",
    "        t = new Thread(this) // create the thread\n",
    "        t.start() // launch the thread\n",
    "    }\n",
    "\n",
    "    public void run(){\n",
    "        synchronized(target){ // run() method is sync on \"target\" object\n",
    "            target.write(message);\n",
    "        }\n",
    "    }\n",
    "}"
   ]
  },
  {
   "cell_type": "markdown",
   "metadata": {},
   "source": [
    "### Useful methods\n",
    "- _**start()**_ the thread starts its execution\n",
    "- _**run()**_ \"\"\n",
    "- _**sleep()**_ the thread runs for a certain amount of milliseconds\n",
    "- _**currentThread()**_ returns the reference to the current running thread object\n",
    "- _**setPriority()**_ changes the priority of the current thread"
   ]
  }
 ],
 "metadata": {
  "language_info": {
   "name": "python"
  },
  "orig_nbformat": 4
 },
 "nbformat": 4,
 "nbformat_minor": 2
}
