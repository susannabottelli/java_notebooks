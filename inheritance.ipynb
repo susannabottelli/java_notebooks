{
 "cells": [
  {
   "cell_type": "markdown",
   "metadata": {},
   "source": [
    "## Inheritance in Java\n",
    "### Definition and Function\n",
    "Inheritance is the ability of a class of acquiring attributes and methods from another class.\n",
    "* **SUPERCLASS** (parent class): where the method is inherited from\n",
    "* **SUBCLASS** (child class): inherits the method from the Superclass -> they are created using the _**extends**_ keyword."
   ]
  },
  {
   "cell_type": "markdown",
   "metadata": {},
   "source": [
    "KEYWORD: _**extends**_"
   ]
  },
  {
   "cell_type": "code",
   "execution_count": null,
   "metadata": {
    "vscode": {
     "languageId": "java"
    }
   },
   "outputs": [],
   "source": [
    "class Child extends Parent {\n",
    "    //body\n",
    "}"
   ]
  },
  {
   "cell_type": "code",
   "execution_count": null,
   "metadata": {
    "vscode": {
     "languageId": "java"
    }
   },
   "outputs": [],
   "source": [
    "class SwimmingAnimal {\n",
    "    String type = \"Swimming Animal\";  // Animal attribute\n",
    "    public void movement() {          // Animal method\n",
    "      System.out.println(\"I swim.\");\n",
    "    }\n",
    "  }\n",
    "  \n",
    "class Fish extends SwimmingAnimal {\n",
    "    private String name = \"Trout\";    // Fish attribute\n",
    "    \n",
    "    @Override\n",
    "    public void movement(){\n",
    "      System.out.println(\"I swim in fresh water.\");\n",
    "    }\n",
    "  }"
   ]
  },
  {
   "cell_type": "markdown",
   "metadata": {},
   "source": [
    "### Types of Inheritance\n",
    "\n",
    "#### * SINGLE INHERITANCE:\n",
    "a subclass inherits the features of one superclass"
   ]
  },
  {
   "cell_type": "code",
   "execution_count": null,
   "metadata": {
    "vscode": {
     "languageId": "java"
    }
   },
   "outputs": [],
   "source": [
    "class Animal {\n",
    "    public void environment(){\n",
    "        System.out.println(\"I live on earth.\");\n",
    "    }\n",
    "}\n",
    "\n",
    "class Winged extends Animal {\n",
    "    public void environment(){\n",
    "        System.out.println(\"I live on earth and air.\");\n",
    "    }\n",
    "    public void movement(){\n",
    "        System.out.println(\"I can fly.\");\n",
    "    }\n",
    "}"
   ]
  },
  {
   "cell_type": "markdown",
   "metadata": {},
   "source": [
    "#### * HIERARCHICAL INHERITANCE:\n",
    "one superclass has more than one subclasses"
   ]
  },
  {
   "cell_type": "code",
   "execution_count": null,
   "metadata": {
    "vscode": {
     "languageId": "java"
    }
   },
   "outputs": [],
   "source": [
    "class Animal { // parent class\n",
    "    public void environment(){\n",
    "        System.out.println(\"I live on earth.\")\n",
    "    }\n",
    "}\n",
    "\n",
    "class Winged extends Animal { // child of class Animal\n",
    "    public void environment(){\n",
    "        System.out.println(\"I live on earth and air.\");\n",
    "    }\n",
    "}\n",
    "\n",
    "class FourLegged extends Animal { // child of class Animal\n",
    "    public void environment(){\n",
    "        System.out.println(\"I walk on earth with my four legs.\");\n",
    "    }\n",
    "}"
   ]
  },
  {
   "cell_type": "markdown",
   "metadata": {},
   "source": [
    "#### * MULTILEVEL INHERITANCE:\n",
    "a subclass inherits from a superclass and acts as a superclass for further subclasses"
   ]
  },
  {
   "cell_type": "code",
   "execution_count": null,
   "metadata": {
    "vscode": {
     "languageId": "java"
    }
   },
   "outputs": [],
   "source": [
    "class Animal { //parent class\n",
    "    public void environment(){\n",
    "        System.out.println(\"I live on earth.\");\n",
    "    }\n",
    "}\n",
    "\n",
    "class Winged extends Animal{ //child of class Animal\n",
    "    public void environment(){\n",
    "        System.out.println(\"I live on earth and air.\");\n",
    "    }\n",
    "    public void movement(){\n",
    "        System.out.println(\"I can fly.\");\n",
    "    }\n",
    "}\n",
    "\n",
    "class WingedInsect extends Winged{ // child (of child) class Winged\n",
    "    public void environment(){\n",
    "        System.out.println(\"I live on earth and air.\");\n",
    "    }\n",
    "    public void movement(){\n",
    "        System.out.println(\"I can fly but I am not a bird.\");\n",
    "    }\n",
    "}\n",
    "\n",
    "\n"
   ]
  },
  {
   "cell_type": "markdown",
   "metadata": {},
   "source": [
    "#### * MULTIPLE INHERITANCE:\n",
    "one child class can have multiple superclasses (see _**Interfaces**_)"
   ]
  },
  {
   "cell_type": "code",
   "execution_count": null,
   "metadata": {
    "vscode": {
     "languageId": "java"
    }
   },
   "outputs": [],
   "source": [
    "class Animal { //parent class 1\n",
    "    public void amAnimal(){\n",
    "        System.out.println(\"I am an animal.\");\n",
    "    }\n",
    "}\n",
    "\n",
    "class Plant { //parent class 2\n",
    "    public void amPlant(){\n",
    "        System.out.println(\"I am a plant.\");\n",
    "    }\n",
    "}\n",
    "\n",
    "interface Fungus extends Animal, Plant {\n",
    "    @Override\n",
    "    public void amAnimal(){\n",
    "        System.out.println(\"I am a bit of an animal\");\n",
    "    }\n",
    " \n",
    "       String srt = System.out.println(\" but also \");\n",
    "\n",
    "    public void amPlant(){\n",
    "        System.out.println(\"a bit of a plant.\"); }\n",
    "}"
   ]
  }
 ],
 "metadata": {
  "language_info": {
   "name": "python"
  },
  "orig_nbformat": 4
 },
 "nbformat": 4,
 "nbformat_minor": 2
}
